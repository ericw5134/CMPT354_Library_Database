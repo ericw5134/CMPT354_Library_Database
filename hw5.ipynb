{
 "cells": [
  {
   "cell_type": "markdown",
   "metadata": {},
   "source": [
    "# HW5. Mini Project"
   ]
  },
  {
   "cell_type": "markdown",
   "metadata": {},
   "source": [
    "## Step 5: SQL Schema"
   ]
  },
  {
   "cell_type": "code",
   "execution_count": 1,
   "metadata": {},
   "outputs": [],
   "source": [
    "%load_ext sql"
   ]
  },
  {
   "cell_type": "code",
   "execution_count": 2,
   "metadata": {},
   "outputs": [
    {
     "data": {
      "text/plain": [
       "'Connected: @library.db'"
      ]
     },
     "execution_count": 2,
     "metadata": {},
     "output_type": "execute_result"
    }
   ],
   "source": [
    "%sql sqlite:///library.db"
   ]
  },
  {
   "cell_type": "code",
   "execution_count": 3,
   "metadata": {},
   "outputs": [
    {
     "name": "stdout",
     "output_type": "stream",
     "text": [
      " * sqlite:///library.db\n",
      "Done.\n"
     ]
    },
    {
     "data": {
      "text/plain": [
       "[]"
      ]
     },
     "execution_count": 3,
     "metadata": {},
     "output_type": "execute_result"
    }
   ],
   "source": [
    "%%sql\n",
    "CREATE TABLE Item (\n",
    "    itemID INTEGER,\n",
    "    itemType VARCHAR(30),\n",
    "    title VARCHAR(30),\n",
    "    author VARCHAR(30),\n",
    "    publisher VARCHAR(30),\n",
    "    releaseDate DATE CHECK ( releaseDate NOT NULL ),\n",
    "    PRIMARY KEY (itemID),\n",
    "    CHECK ( itemType IN ('Print Book', 'Online Book', 'Magazine', 'Scientific Journal', 'CD', 'Record') )\n",
    ")"
   ]
  },
  {
   "cell_type": "code",
   "execution_count": 4,
   "metadata": {},
   "outputs": [
    {
     "name": "stdout",
     "output_type": "stream",
     "text": [
      " * sqlite:///library.db\n",
      "Done.\n"
     ]
    },
    {
     "data": {
      "text/plain": [
       "[]"
      ]
     },
     "execution_count": 4,
     "metadata": {},
     "output_type": "execute_result"
    }
   ],
   "source": [
    "%%sql\n",
    "CREATE TABLE Person (\n",
    "    personID INTEGER,\n",
    "    firstName VARCHAR(20),\n",
    "    lastName VARCHAR(20),\n",
    "    contactNumber VARCHAR(20) UNIQUE,\n",
    "    email VARCHAR(30),\n",
    "    PRIMARY KEY (personID)\n",
    ")"
   ]
  },
  {
   "cell_type": "code",
   "execution_count": 5,
   "metadata": {},
   "outputs": [
    {
     "name": "stdout",
     "output_type": "stream",
     "text": [
      " * sqlite:///library.db\n",
      "Done.\n"
     ]
    },
    {
     "data": {
      "text/plain": [
       "[]"
      ]
     },
     "execution_count": 5,
     "metadata": {},
     "output_type": "execute_result"
    }
   ],
   "source": [
    "%%sql\n",
    "CREATE TABLE BorrowTransaction (\n",
    "    transactionID INTEGER,\n",
    "    itemID INTEGER,\n",
    "    personID INTEGER,\n",
    "    borrowDate DATE,\n",
    "    returnDate DATE,\n",
    "    fineAmount INTEGER,\n",
    "    PRIMARY KEY (transactionID),\n",
    "    FOREIGN KEY(itemID) REFERENCES Item(itemID),\n",
    "    FOREIGN KEY(personID) REFERENCES Person(personID)\n",
    "    CHECK (borrowDate NOT NULL)\n",
    ")"
   ]
  },
  {
   "cell_type": "code",
   "execution_count": 6,
   "metadata": {},
   "outputs": [
    {
     "name": "stdout",
     "output_type": "stream",
     "text": [
      " * sqlite:///library.db\n",
      "Done.\n"
     ]
    },
    {
     "data": {
      "text/plain": [
       "[]"
      ]
     },
     "execution_count": 6,
     "metadata": {},
     "output_type": "execute_result"
    }
   ],
   "source": [
    "%%sql\n",
    "CREATE TRIGGER IF NOT EXISTS SetReturnDate\n",
    "AFTER INSERT ON BorrowTransaction\n",
    "FOR EACH ROW\n",
    "BEGIN\n",
    "    UPDATE BorrowTransaction\n",
    "    SET returnDate = DATE(borrowDate, '+1 month')\n",
    "    WHERE transactionID = NEW.transactionID;\n",
    "END;"
   ]
  },
  {
   "cell_type": "code",
   "execution_count": 7,
   "metadata": {},
   "outputs": [
    {
     "name": "stdout",
     "output_type": "stream",
     "text": [
      " * sqlite:///library.db\n",
      "Done.\n"
     ]
    },
    {
     "data": {
      "text/plain": [
       "[]"
      ]
     },
     "execution_count": 7,
     "metadata": {},
     "output_type": "execute_result"
    }
   ],
   "source": [
    "%%sql\n",
    "CREATE TRIGGER IF NOT EXISTS SetFineAmount\n",
    "AFTER INSERT ON BorrowTransaction\n",
    "FOR EACH ROW\n",
    "BEGIN\n",
    "    UPDATE BorrowTransaction\n",
    "    SET fineAmount = 26\n",
    "    WHERE transactionID = NEW.transactionID;\n",
    "END;"
   ]
  },
  {
   "cell_type": "code",
   "execution_count": 20,
   "metadata": {},
   "outputs": [
    {
     "name": "stdout",
     "output_type": "stream",
     "text": [
      " * sqlite:///library.db\n",
      "Done.\n"
     ]
    },
    {
     "data": {
      "text/plain": [
       "[]"
      ]
     },
     "execution_count": 20,
     "metadata": {},
     "output_type": "execute_result"
    }
   ],
   "source": [
    "%%sql\n",
    "CREATE TABLE Event (\n",
    "    eventID INTEGER,\n",
    "    eventType VARCHAR(20),\n",
    "    eventPrice INTEGER CHECK (eventPrice >= 0),\n",
    "    socialRoom VARCHAR(20),\n",
    "    PRIMARY KEY (eventID)\n",
    ")"
   ]
  },
  {
   "cell_type": "code",
   "execution_count": 9,
   "metadata": {},
   "outputs": [
    {
     "name": "stdout",
     "output_type": "stream",
     "text": [
      " * sqlite:///library.db\n",
      "Done.\n"
     ]
    },
    {
     "data": {
      "text/plain": [
       "[]"
      ]
     },
     "execution_count": 9,
     "metadata": {},
     "output_type": "execute_result"
    }
   ],
   "source": [
    "%%sql \n",
    "CREATE TABLE eventAudiences (\n",
    "    eventID INTEGER,\n",
    "    audienceID INTEGER,\n",
    "    FOREIGN KEY(audienceID) REFERENCES Person(PersonID),\n",
    "    FOREIGN KEY(eventID) REFERENCES Event(eventID)\n",
    ")"
   ]
  },
  {
   "cell_type": "code",
   "execution_count": 10,
   "metadata": {},
   "outputs": [
    {
     "name": "stdout",
     "output_type": "stream",
     "text": [
      " * sqlite:///library.db\n",
      "Done.\n"
     ]
    },
    {
     "data": {
      "text/plain": [
       "[]"
      ]
     },
     "execution_count": 10,
     "metadata": {},
     "output_type": "execute_result"
    }
   ],
   "source": [
    "%%sql\n",
    "CREATE TABLE Personnel (\n",
    "    personnelID INTEGER,\n",
    "    jobTitle VARCHAR(20),\n",
    "    FOREIGN KEY(personnelID) REFERENCES Person(personID)\n",
    ")"
   ]
  },
  {
   "cell_type": "code",
   "execution_count": 11,
   "metadata": {},
   "outputs": [
    {
     "name": "stdout",
     "output_type": "stream",
     "text": [
      " * sqlite:///library.db\n",
      "Done.\n"
     ]
    },
    {
     "data": {
      "text/plain": [
       "[]"
      ]
     },
     "execution_count": 11,
     "metadata": {},
     "output_type": "execute_result"
    }
   ],
   "source": [
    "%%sql\n",
    "CREATE TABLE FutureItem (\n",
    "    futureItemID INTEGER,\n",
    "    FOREIGN KEY(futureItemID) REFERENCES Item(itemID)\n",
    ")"
   ]
  },
  {
   "cell_type": "markdown",
   "metadata": {},
   "source": [
    "## Step 6: Populate Tables"
   ]
  },
  {
   "cell_type": "code",
   "execution_count": 12,
   "metadata": {},
   "outputs": [
    {
     "name": "stdout",
     "output_type": "stream",
     "text": [
      " * sqlite:///library.db\n",
      "40 rows affected.\n"
     ]
    },
    {
     "data": {
      "text/plain": [
       "[]"
      ]
     },
     "execution_count": 12,
     "metadata": {},
     "output_type": "execute_result"
    }
   ],
   "source": [
    "%%sql\n",
    "INSERT INTO Item (itemID, itemType, title, author, publisher, releaseDate)\n",
    "VALUES\n",
    "    (1, 'Print Book', 'Sample Book 1', 'John Doe', 'Publisher A', '2023-01-01'),\n",
    "    (2, 'Online Book', 'Sample Book 2', 'Jane Smith', 'Publisher B', '2023-02-15'),\n",
    "    (3, 'Magazine', 'Sample Magazine 1', 'Magazine Author', 'Publisher C', '2023-03-10'),\n",
    "    (4, 'Scientific Journal', 'Sample Journal 1', 'Researcher X', 'Publisher D', '2023-04-20'),\n",
    "    (5, 'CD', 'Sample CD 1', 'Artist A', 'Music Label E', '2023-05-05'),\n",
    "    (6, 'Record', 'Sample Record 1', 'Artist B', 'Music Label F', '2023-06-30'),\n",
    "    (7, 'Print Book', 'Sample Book 3', 'Author Y', 'Publisher G', '2023-07-12'),\n",
    "    (8, 'Online Book', 'Sample Book 4', 'Author Z', 'Publisher H', '2023-08-25'),\n",
    "    (9, 'CD', 'Sample CD 2', 'Artist C', 'Music Label I', '2023-09-18'),\n",
    "    (10, 'Magazine', 'Sample Magazine 2', 'Magazine Author 2', 'Publisher J', '2023-10-05'),\n",
    "    (11, 'Print Book', 'Sample Book 5', 'Author X', 'Publisher K', '2023-11-15'),\n",
    "    (12, 'Online Book', 'Sample Book 6', 'Author Y', 'Publisher L', '2023-12-20'),\n",
    "    (13, 'CD', 'Sample CD 3', 'Artist B', 'Music Label F', '2024-01-10'),\n",
    "    (14, 'Magazine', 'Sample Magazine 3', 'Magazine Author 3', 'Publisher M', '2024-02-05'),\n",
    "    (15, 'Record', 'Sample Record 2', 'Artist C', 'Music Label I', '2024-03-25'),\n",
    "    (16, 'Print Book', 'Sample Book 7', 'Author Z', 'Publisher N', '2024-04-12'),\n",
    "    (17, 'Online Book', 'Sample Book 8', 'Author X', 'Publisher K', '2024-05-30'),\n",
    "    (18, 'CD', 'Sample CD 4', 'Artist A', 'Music Label E', '2024-06-18'),\n",
    "    (19, 'Magazine', 'Sample Magazine 4', 'Magazine Author 4', 'Publisher O', '2024-07-08'),\n",
    "    (20, 'Record', 'Sample Record 3', 'Artist B', 'Music Label F', '2024-08-15'),\n",
    "    (21, 'Print Book', 'Sample Book 9', 'Author Y', 'Publisher L', '2024-09-20'),\n",
    "    (22, 'Online Book', 'Sample Book 10', 'Author Z', 'Publisher N', '2024-10-05'),\n",
    "    (23, 'CD', 'Sample CD 5', 'Artist C', 'Music Label I', '2024-11-15'),\n",
    "    (24, 'Magazine', 'Sample Magazine 5', 'Magazine Author 5', 'Publisher O', '2024-12-02'),\n",
    "    (25, 'Record', 'Sample Record 4', 'Artist A', 'Music Label E', '2025-01-08'),\n",
    "    (26, 'Print Book', 'Sample Book 11', 'Author X', 'Publisher K', '2025-02-18'),\n",
    "    (27, 'Online Book', 'Sample Book 12', 'Author Y', 'Publisher L', '2025-03-25'),\n",
    "    (28, 'CD', 'Sample CD 6', 'Artist B', 'Music Label F', '2025-04-12'),\n",
    "    (29, 'Magazine', 'Sample Magazine 6', 'Magazine Author 6', 'Publisher M', '2025-05-22'),\n",
    "    (30, 'Record', 'Sample Record 5', 'Artist C', 'Music Label I', '2025-06-05'),\n",
    "    (31, 'Print Book', 'Sample Book 13', 'Author Z', 'Publisher N', '2025-07-10'),\n",
    "    (32, 'Online Book', 'Sample Book 14', 'Author X', 'Publisher K', '2025-08-15'),\n",
    "    (33, 'CD', 'Sample CD 7', 'Artist A', 'Music Label E', '2025-09-18'),\n",
    "    (34, 'Magazine', 'Sample Magazine 7', 'Magazine Author 7', 'Publisher O', '2025-10-25'),\n",
    "    (35, 'Record', 'Sample Record 6', 'Artist B', 'Music Label F', '2025-11-30'),\n",
    "    (36, 'Print Book', 'Sample Book 15', 'Author Y', 'Publisher L', '2025-12-15'),\n",
    "    (37, 'Online Book', 'Sample Book 16', 'Author Z', 'Publisher N', '2026-01-22'),\n",
    "    (38, 'CD', 'Sample CD 8', 'Artist C', 'Music Label I', '2026-02-08'),\n",
    "    (39, 'Magazine', 'Sample Magazine 8', 'Magazine Author 8', 'Publisher M', '2026-03-12'),\n",
    "    (40, 'Record', 'Sample Record 7', 'Artist A', 'Music Label E', '2026-04-18');"
   ]
  },
  {
   "cell_type": "code",
   "execution_count": 13,
   "metadata": {},
   "outputs": [
    {
     "name": "stdout",
     "output_type": "stream",
     "text": [
      " * sqlite:///library.db\n",
      "20 rows affected.\n"
     ]
    },
    {
     "data": {
      "text/plain": [
       "[]"
      ]
     },
     "execution_count": 13,
     "metadata": {},
     "output_type": "execute_result"
    }
   ],
   "source": [
    "%%sql\n",
    "INSERT INTO Person (personID, firstName, lastName, contactNumber, email)\n",
    "VALUES\n",
    "    (1, 'John', 'Doe', '545-109-1896', 'john.doe@example.com'),\n",
    "    (2, 'Jane', 'Smith', '256-744-2185', 'jane.smith@example.com'),\n",
    "    (3, 'Alice', 'Johnson', '823-168-9374', 'alice.johnson@example.com'),\n",
    "    (4, 'Bob', 'Anderson', '780-537-4179', 'bob.anderson@example.com'),\n",
    "    (5, 'David', 'Williams', '621-936-6840', 'david.williams@example.com'),\n",
    "    (6, 'Emily', 'Brown', '879-045-9671', 'emily.brown@example.com'),\n",
    "    (7, 'Michael', 'Jones', '354-512-0802', 'michael.jones@example.com'),\n",
    "    (8, 'Olivia', 'Davis', '434-995-1321', 'olivia.davis@example.com'),\n",
    "    (9, 'Sophia', 'Miller', '013-850-7696', 'sophia.miller@example.com'),\n",
    "    (10, 'William', 'Wilson', '516-358-3485', 'william.wilson@example.com'),\n",
    "    (11, 'James', 'Brown', '925-603-6759', 'james.brown@example.com'),\n",
    "    (12, 'Emma', 'Clark', '357-932-5631', 'emma.clark@example.com'),\n",
    "    (13, 'Liam', 'Martinez', '259-684-2010', 'liam.martinez@example.com'),\n",
    "    (14, 'Ava', 'Thompson', '851-168-3657', 'ava.thompson@example.com'),\n",
    "    (15, 'Noah', 'Wright', '905-181-7086', 'noah.wright@example.com'),\n",
    "    (16, 'Isabella', 'Lee', '326-539-3842', 'isabella.lee@example.com'),\n",
    "    (17, 'Ethan', 'Scott', '384-049-7120', 'ethan.scott@example.com'),\n",
    "    (18, 'Mia', 'Lopez', '990-870-3281', 'mia.lopez@example.com'),\n",
    "    (19, 'Lucas', 'Hill', '721-468-5739', 'lucas.hill@example.com'),\n",
    "    (20, 'Avery', 'Green', '841-502-7636', 'avery.green@example.com');"
   ]
  },
  {
   "cell_type": "code",
   "execution_count": 14,
   "metadata": {},
   "outputs": [
    {
     "name": "stdout",
     "output_type": "stream",
     "text": [
      " * sqlite:///library.db\n",
      "10 rows affected.\n"
     ]
    },
    {
     "data": {
      "text/plain": [
       "[]"
      ]
     },
     "execution_count": 14,
     "metadata": {},
     "output_type": "execute_result"
    }
   ],
   "source": [
    "%%sql\n",
    "INSERT INTO BorrowTransaction (transactionID, itemID, personID, borrowDate, returnDate, fineAmount)\n",
    "VALUES\n",
    "    (1, 1, 1, '2023-07-01', NULL, NULL),\n",
    "    (2, 2, 3, '2023-07-10', NULL, NULL),\n",
    "    (3, 5, 2, '2023-07-15', NULL, NULL),\n",
    "    (4, 3, 4, '2023-07-20', NULL, NULL),\n",
    "    (5, 6, 6, '2023-07-25', NULL, NULL),\n",
    "    (6, 4, 7, '2023-07-30', NULL, NULL),\n",
    "    (7, 9, 5, '2023-08-01', NULL, NULL),\n",
    "    (8, 10, 8, '2023-08-05', NULL, NULL),\n",
    "    (9, 7, 9, '2023-08-10', NULL, NULL),\n",
    "    (10, 8, 10, '2023-08-15', NULL, NULL);"
   ]
  },
  {
   "cell_type": "code",
   "execution_count": 21,
   "metadata": {},
   "outputs": [
    {
     "name": "stdout",
     "output_type": "stream",
     "text": [
      " * sqlite:///library.db\n",
      "10 rows affected.\n"
     ]
    },
    {
     "data": {
      "text/plain": [
       "[]"
      ]
     },
     "execution_count": 21,
     "metadata": {},
     "output_type": "execute_result"
    }
   ],
   "source": [
    "%%sql\n",
    "INSERT INTO Event (eventID, eventType, eventPrice, socialRoom)\n",
    "VALUES\n",
    "    (1, 'Story Telling Session', 50, 'Hall A'),\n",
    "    (2, 'Elementry Math Seminar', 50, 'Hall C'),\n",
    "    (3, 'Indigenous Culture Learning Day', 0, 'Hall A'),\n",
    "    (4, 'College Calculus Workshop', 25, 'Hall C'),\n",
    "    (5, 'High School Chemistry Tutoring', 100, 'Hall c'),\n",
    "    (6, 'High School Physics Tutoring', 100, 'Hall C'),\n",
    "    (7, 'Monthly Employee Meeting', 0, 'Hall F'),\n",
    "    (8, 'Woodworking Workshop', 30, 'Hall C'),\n",
    "    (9, 'Drawing Competition', 0, 'Hall G'),\n",
    "    (10, 'Poetry Competition', 15, 'Hall G');"
   ]
  },
  {
   "cell_type": "code",
   "execution_count": 16,
   "metadata": {},
   "outputs": [
    {
     "name": "stdout",
     "output_type": "stream",
     "text": [
      " * sqlite:///library.db\n",
      "10 rows affected.\n"
     ]
    },
    {
     "data": {
      "text/plain": [
       "[]"
      ]
     },
     "execution_count": 16,
     "metadata": {},
     "output_type": "execute_result"
    }
   ],
   "source": [
    "%%sql\n",
    "INSERT INTO eventAudiences (eventID, audienceID)\n",
    "VALUES\n",
    "    (1, 11),\n",
    "    (1, 12),\n",
    "    (1, 13),\n",
    "    (1, 14),\n",
    "    (1, 15),\n",
    "    (1, 16),\n",
    "    (1, 17),\n",
    "    (1, 18),\n",
    "    (1, 19),\n",
    "    (2, 20);"
   ]
  },
  {
   "cell_type": "code",
   "execution_count": 17,
   "metadata": {},
   "outputs": [
    {
     "name": "stdout",
     "output_type": "stream",
     "text": [
      " * sqlite:///library.db\n",
      "10 rows affected.\n"
     ]
    },
    {
     "data": {
      "text/plain": [
       "[]"
      ]
     },
     "execution_count": 17,
     "metadata": {},
     "output_type": "execute_result"
    }
   ],
   "source": [
    "%%sql\n",
    "INSERT INTO Personnel (personnelID, jobTitle)\n",
    "VALUES\n",
    "    (1, 'Manager'),\n",
    "    (2, 'Assistant'),\n",
    "    (3, 'Coordinator'),\n",
    "    (4, 'Technician'),\n",
    "    (5, 'Intern'),\n",
    "    (6, 'Manager'),\n",
    "    (7, 'Assistant'),\n",
    "    (8, 'Coordinator'),\n",
    "    (9, 'Technician'),\n",
    "    (10, 'Intern');"
   ]
  },
  {
   "cell_type": "code",
   "execution_count": 18,
   "metadata": {},
   "outputs": [
    {
     "name": "stdout",
     "output_type": "stream",
     "text": [
      " * sqlite:///library.db\n",
      "10 rows affected.\n"
     ]
    },
    {
     "data": {
      "text/plain": [
       "[]"
      ]
     },
     "execution_count": 18,
     "metadata": {},
     "output_type": "execute_result"
    }
   ],
   "source": [
    "%%sql\n",
    "INSERT INTO FutureItem (futureItemID)\n",
    "VALUES\n",
    "    (1),\n",
    "    (2),\n",
    "    (5),\n",
    "    (3),\n",
    "    (6),\n",
    "    (4),\n",
    "    (9),\n",
    "    (10),\n",
    "    (7),\n",
    "    (8);"
   ]
  },
  {
   "cell_type": "code",
   "execution_count": null,
   "metadata": {},
   "outputs": [],
   "source": []
  }
 ],
 "metadata": {
  "kernelspec": {
   "display_name": "Python 3 (ipykernel)",
   "language": "python",
   "name": "python3"
  },
  "language_info": {
   "codemirror_mode": {
    "name": "ipython",
    "version": 3
   },
   "file_extension": ".py",
   "mimetype": "text/x-python",
   "name": "python",
   "nbconvert_exporter": "python",
   "pygments_lexer": "ipython3",
   "version": "3.10.9"
  }
 },
 "nbformat": 4,
 "nbformat_minor": 2
}
